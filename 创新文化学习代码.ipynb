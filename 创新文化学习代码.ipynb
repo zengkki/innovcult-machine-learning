{
 "cells": [
  {
   "cell_type": "code",
   "execution_count": null,
   "id": "0f20953c-dead-457f-8ccb-30fc43707bb0",
   "metadata": {},
   "outputs": [],
   "source": [
    "import os\n",
    "from gensim.models import Word2Vec\n",
    "from gensim.models.word2vec import LineSentence\n",
    "\n",
    "def train_word2vec_model(data_directory, model_save_path):\n",
    "    # 遍历目录下的所有文件\n",
    "    sentences = []\n",
    "    for year in range(2007, 2023):\n",
    "        year_folder = os.path.join(data_directory, str(year))\n",
    "        if os.path.exists(year_folder):\n",
    "            for file_name in os.listdir(year_folder):\n",
    "                file_path = os.path.join(year_folder, file_name)\n",
    "                # 使用LineSentence来读取文件，它会自动处理换行符\n",
    "                sentences.extend(LineSentence(file_path))\n",
    "\n",
    "    # 训练模型\n",
    "    model = Word2Vec(sentences, vector_size=300, window=7, min_count=5, workers=20, sg=0)\n",
    "\n",
    "    # 保存模型\n",
    "    model.save(model_save_path)\n",
    "\n",
    "    return model\n",
    "\n",
    "# 使用此函数来训练模型\n",
    "data_directory = '/数据/去除停用词和分词'  # 你的数据目录\n",
    "model_save_path = 'word2vec_model.model'  # 模型保存路径\n",
    "model = train_word2vec_model(data_directory, model_save_path)\n",
    "\n",
    "# 你可以使用model.wv.most_similar等函数来查询与种子词最相似的词\n",
    "seed_words = [\"创新\", \"技术\", \"科技\", \"研发\", \"研究\", \"专利\", \"革新\", \"求新\"]\n",
    "for word in seed_words:\n",
    "    print(f\"与'{word}'最相似的词:\")\n",
    "    print(model.wv.most_similar(word))"
   ]
  },
  {
   "cell_type": "code",
   "execution_count": null,
   "id": "74779216-bd10-47cb-bc1d-989c8dc35f83",
   "metadata": {},
   "outputs": [],
   "source": []
  }
 ],
 "metadata": {
  "kernelspec": {
   "display_name": "Python 3 (ipykernel)",
   "language": "python",
   "name": "python3"
  },
  "language_info": {
   "codemirror_mode": {
    "name": "ipython",
    "version": 3
   },
   "file_extension": ".py",
   "mimetype": "text/x-python",
   "name": "python",
   "nbconvert_exporter": "python",
   "pygments_lexer": "ipython3",
   "version": "3.11.6"
  }
 },
 "nbformat": 4,
 "nbformat_minor": 5
}
